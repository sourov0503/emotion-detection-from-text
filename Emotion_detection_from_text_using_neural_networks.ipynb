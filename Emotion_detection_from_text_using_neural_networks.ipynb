{
  "cells": [
    {
      "cell_type": "code",
      "execution_count": 1,
      "id": "20bf74a3",
      "metadata": {
        "id": "20bf74a3"
      },
      "outputs": [],
      "source": [
        "#make sure you have these versions of TensorFlow and Keras"
      ]
    },
    {
      "cell_type": "code",
      "execution_count": 2,
      "id": "0a5123fe",
      "metadata": {
        "colab": {
          "base_uri": "https://localhost:8080/"
        },
        "id": "0a5123fe",
        "outputId": "ee49ff30-463e-4b4a-e849-e269b00cfb4e"
      },
      "outputs": [
        {
          "output_type": "stream",
          "name": "stdout",
          "text": [
            "2.15.0\n"
          ]
        }
      ],
      "source": [
        "import tensorflow as tf\n",
        "print(tf.__version__)"
      ]
    },
    {
      "cell_type": "code",
      "execution_count": 3,
      "id": "1b477834",
      "metadata": {
        "colab": {
          "base_uri": "https://localhost:8080/",
          "height": 35
        },
        "id": "1b477834",
        "outputId": "8c458b58-6f03-4292-97a3-19ba60068421"
      },
      "outputs": [
        {
          "output_type": "execute_result",
          "data": {
            "text/plain": [
              "'2.15.0'"
            ],
            "application/vnd.google.colaboratory.intrinsic+json": {
              "type": "string"
            }
          },
          "metadata": {},
          "execution_count": 3
        }
      ],
      "source": [
        "import keras\n",
        "keras.__version__"
      ]
    },
    {
      "cell_type": "code",
      "source": [
        "from google.colab import drive\n",
        "drive.mount('/content/drive')"
      ],
      "metadata": {
        "colab": {
          "base_uri": "https://localhost:8080/"
        },
        "id": "IlixaPazLA-0",
        "outputId": "cfd6d3ce-6eb1-441f-f2e1-e27b3a74b2e9"
      },
      "id": "IlixaPazLA-0",
      "execution_count": 4,
      "outputs": [
        {
          "output_type": "stream",
          "name": "stdout",
          "text": [
            "Drive already mounted at /content/drive; to attempt to forcibly remount, call drive.mount(\"/content/drive\", force_remount=True).\n"
          ]
        }
      ]
    },
    {
      "cell_type": "code",
      "execution_count": 5,
      "id": "e2e0b6e3",
      "metadata": {
        "id": "e2e0b6e3"
      },
      "outputs": [],
      "source": [
        "import pandas as pd\n",
        "from nltk.corpus import stopwords\n",
        "from nltk.stem.porter import PorterStemmer\n",
        "import re\n",
        "train=pd.read_csv('/content/drive/Shareddrives/ presentation/train.csv')\n",
        "val=pd.read_csv('/content/drive/Shareddrives/ presentation/val.csv')\n",
        "test=pd.read_csv('/content/drive/Shareddrives/ presentation/test.csv')\n",
        "\n",
        "\n",
        "\n"
      ]
    },
    {
      "cell_type": "code",
      "source": [
        "val.info()"
      ],
      "metadata": {
        "colab": {
          "base_uri": "https://localhost:8080/"
        },
        "id": "AgbMuHJmOJLv",
        "outputId": "4f05397a-f8a1-4ca7-9c64-9610e847f5ab"
      },
      "id": "AgbMuHJmOJLv",
      "execution_count": 6,
      "outputs": [
        {
          "output_type": "stream",
          "name": "stdout",
          "text": [
            "<class 'pandas.core.frame.DataFrame'>\n",
            "RangeIndex: 999 entries, 0 to 998\n",
            "Data columns (total 2 columns):\n",
            " #   Column     Non-Null Count  Dtype \n",
            "---  ------     --------------  ----- \n",
            " 0   sentiment  999 non-null    object\n",
            " 1   content    999 non-null    object\n",
            "dtypes: object(2)\n",
            "memory usage: 15.7+ KB\n"
          ]
        }
      ]
    },
    {
      "cell_type": "code",
      "source": [
        "data = pd.concat([train ,  val , test])\n",
        "data.columns = [ \"sentiment\",\"content\"]"
      ],
      "metadata": {
        "id": "TOtMSmInOM3C"
      },
      "id": "TOtMSmInOM3C",
      "execution_count": 7,
      "outputs": []
    },
    {
      "cell_type": "code",
      "source": [
        "unique_sentiments = data['sentiment'].unique()\n",
        "print(unique_sentiments)"
      ],
      "metadata": {
        "colab": {
          "base_uri": "https://localhost:8080/"
        },
        "id": "pLsUFbhcbm_p",
        "outputId": "6007360d-6cc1-40ad-f29f-6229658ea052"
      },
      "id": "pLsUFbhcbm_p",
      "execution_count": 8,
      "outputs": [
        {
          "output_type": "stream",
          "name": "stdout",
          "text": [
            "['neutral' 'worry' 'surprise' 'hate' 'empty' 'happiness' 'sadness' 'fun'\n",
            " 'enthusiasm' 'love' 'relief' 'boredom' 'anger']\n"
          ]
        }
      ]
    },
    {
      "cell_type": "code",
      "source": [
        "sentiment_mapping = {\n",
        "    'empty': 'negative',\n",
        "    'sadness': 'negative',\n",
        "    'worry': 'negative',\n",
        "    'hate': 'negative',\n",
        "    'boredom': 'negative',\n",
        "    'anger': 'negative',\n",
        "    'enthusiasm': 'positive',\n",
        "    'neutral': 'neutral',\n",
        "    'surprise': 'neutral',\n",
        "    'love': 'positive',\n",
        "    'fun': 'positive',\n",
        "    'happiness': 'positive',\n",
        "    'relief': 'positive'\n",
        "}\n",
        "\n",
        "# Create a new col for the mapping\n",
        "data['label'] = data['sentiment'].map(sentiment_mapping)"
      ],
      "metadata": {
        "id": "t1W8t5esc0Vs"
      },
      "id": "t1W8t5esc0Vs",
      "execution_count": 9,
      "outputs": []
    },
    {
      "cell_type": "code",
      "source": [
        "# Drop the original column, 'sentiment'\n",
        "data = data.drop(columns=['sentiment'])"
      ],
      "metadata": {
        "id": "6DDUEH38c_gj"
      },
      "id": "6DDUEH38c_gj",
      "execution_count": 10,
      "outputs": []
    },
    {
      "cell_type": "code",
      "source": [
        "unique_sentiments = data['label'].unique()\n",
        "print(unique_sentiments)"
      ],
      "metadata": {
        "colab": {
          "base_uri": "https://localhost:8080/"
        },
        "id": "tZA11m3ydHNS",
        "outputId": "4cce42f5-8a7a-4acb-ab76-91c23a9f8c09"
      },
      "id": "tZA11m3ydHNS",
      "execution_count": 11,
      "outputs": [
        {
          "output_type": "stream",
          "name": "stdout",
          "text": [
            "['neutral' 'negative' 'positive']\n"
          ]
        }
      ]
    },
    {
      "cell_type": "code",
      "source": [
        "data.info()"
      ],
      "metadata": {
        "colab": {
          "base_uri": "https://localhost:8080/"
        },
        "id": "K-pUYmQfdM64",
        "outputId": "224c248a-a2fc-4b17-dec4-59e4009a4159"
      },
      "id": "K-pUYmQfdM64",
      "execution_count": 12,
      "outputs": [
        {
          "output_type": "stream",
          "name": "stdout",
          "text": [
            "<class 'pandas.core.frame.DataFrame'>\n",
            "Int64Index: 40000 entries, 0 to 1998\n",
            "Data columns (total 2 columns):\n",
            " #   Column   Non-Null Count  Dtype \n",
            "---  ------   --------------  ----- \n",
            " 0   content  40000 non-null  object\n",
            " 1   label    40000 non-null  object\n",
            "dtypes: object(2)\n",
            "memory usage: 937.5+ KB\n"
          ]
        }
      ]
    },
    {
      "cell_type": "code",
      "source": [
        "data.rename(columns={'content': 'text'}, inplace=True)\n",
        "#data.rename(columns={'sentiment': 'label'}, inplace=True)"
      ],
      "metadata": {
        "id": "I6fSpAUgO7hh"
      },
      "id": "I6fSpAUgO7hh",
      "execution_count": 13,
      "outputs": []
    },
    {
      "cell_type": "code",
      "source": [
        "data.info()"
      ],
      "metadata": {
        "colab": {
          "base_uri": "https://localhost:8080/"
        },
        "id": "dWb4eaD5QhCK",
        "outputId": "de4f3703-e713-46cc-f455-45cd39d93f93"
      },
      "id": "dWb4eaD5QhCK",
      "execution_count": 14,
      "outputs": [
        {
          "output_type": "stream",
          "name": "stdout",
          "text": [
            "<class 'pandas.core.frame.DataFrame'>\n",
            "Int64Index: 40000 entries, 0 to 1998\n",
            "Data columns (total 2 columns):\n",
            " #   Column  Non-Null Count  Dtype \n",
            "---  ------  --------------  ----- \n",
            " 0   text    40000 non-null  object\n",
            " 1   label   40000 non-null  object\n",
            "dtypes: object(2)\n",
            "memory usage: 937.5+ KB\n"
          ]
        }
      ]
    },
    {
      "cell_type": "code",
      "execution_count": 15,
      "id": "c44756fd",
      "metadata": {
        "id": "c44756fd",
        "outputId": "07c46400-28ac-4aba-ef28-3be4d238bd80",
        "colab": {
          "base_uri": "https://localhost:8080/"
        }
      },
      "outputs": [
        {
          "output_type": "execute_result",
          "data": {
            "text/plain": [
              "(40000, 2)"
            ]
          },
          "metadata": {},
          "execution_count": 15
        }
      ],
      "source": [
        "data.shape"
      ]
    },
    {
      "cell_type": "code",
      "execution_count": 16,
      "id": "c3042a2f",
      "metadata": {
        "id": "c3042a2f",
        "outputId": "23d68a8a-0f18-4134-c8dc-1037ebb4be30",
        "colab": {
          "base_uri": "https://localhost:8080/"
        }
      },
      "outputs": [
        {
          "output_type": "execute_result",
          "data": {
            "text/plain": [
              "0"
            ]
          },
          "metadata": {},
          "execution_count": 16
        }
      ],
      "source": [
        "data.isna().any(axis=1).sum()"
      ]
    },
    {
      "cell_type": "code",
      "execution_count": 17,
      "id": "6eac3269",
      "metadata": {
        "id": "6eac3269"
      },
      "outputs": [],
      "source": [
        "#text preprocessing\n",
        "ps = PorterStemmer()\n",
        "\n",
        "def preprocess(line):\n",
        "    review = re.sub('[^a-zA-Z]', ' ', line) #leave only characters from a to z\n",
        "    review = review.lower() #lower the text\n",
        "    review = review.split() #turn string into list of words\n",
        "    #apply Stemming\n",
        "    review = [ps.stem(word) for word in review if not word in stopwords.words('english')] #delete stop words like I, and ,OR   review = ' '.join(review)\n",
        "    #trun list into sentences\n",
        "    return \" \".join(review)\n"
      ]
    },
    {
      "cell_type": "code",
      "execution_count": 18,
      "id": "d230e70d",
      "metadata": {
        "id": "d230e70d",
        "colab": {
          "base_uri": "https://localhost:8080/"
        },
        "outputId": "719074ee-baad-40f8-a118-591487470c62"
      },
      "outputs": [
        {
          "output_type": "stream",
          "name": "stderr",
          "text": [
            "[nltk_data] Downloading package stopwords to /root/nltk_data...\n",
            "[nltk_data]   Package stopwords is already up-to-date!\n"
          ]
        },
        {
          "output_type": "execute_result",
          "data": {
            "text/plain": [
              "True"
            ]
          },
          "metadata": {},
          "execution_count": 18
        }
      ],
      "source": [
        "import nltk\n",
        "nltk.download('stopwords')"
      ]
    },
    {
      "cell_type": "code",
      "execution_count": 19,
      "id": "c0b585db",
      "metadata": {
        "id": "c0b585db"
      },
      "outputs": [],
      "source": [
        "data['text']=data['text'].apply(lambda x: preprocess(x))\n"
      ]
    },
    {
      "cell_type": "code",
      "source": [
        "data['label']\n",
        "#data['text']"
      ],
      "metadata": {
        "colab": {
          "base_uri": "https://localhost:8080/"
        },
        "id": "RpJ1u4i3Qr51",
        "outputId": "368fb33e-1ce2-488d-ccc8-a3cce9d12726"
      },
      "id": "RpJ1u4i3Qr51",
      "execution_count": 20,
      "outputs": [
        {
          "output_type": "execute_result",
          "data": {
            "text/plain": [
              "0        neutral\n",
              "1        neutral\n",
              "2       negative\n",
              "3       negative\n",
              "4        neutral\n",
              "          ...   \n",
              "1994    negative\n",
              "1995    negative\n",
              "1996     neutral\n",
              "1997     neutral\n",
              "1998    negative\n",
              "Name: label, Length: 40000, dtype: object"
            ]
          },
          "metadata": {},
          "execution_count": 20
        }
      ]
    },
    {
      "cell_type": "code",
      "execution_count": 21,
      "id": "f32480b2",
      "metadata": {
        "id": "f32480b2"
      },
      "outputs": [],
      "source": [
        "from sklearn import preprocessing\n",
        "\n",
        "label_encoder = preprocessing.LabelEncoder()\n",
        "data['N_label'] = label_encoder.fit_transform(data['label'])\n"
      ]
    },
    {
      "cell_type": "code",
      "execution_count": 22,
      "id": "8c8fea19",
      "metadata": {
        "id": "8c8fea19",
        "outputId": "8dee58b0-9d01-4767-d435-e0f68a0a649c",
        "colab": {
          "base_uri": "https://localhost:8080/"
        }
      },
      "outputs": [
        {
          "output_type": "execute_result",
          "data": {
            "text/plain": [
              "0       came hous morn stink cat poo cat busi littl bi...\n",
              "1       bah bk recept comp aint work sun got hat hip h...\n",
              "2       bbc malaria parasit becom resist drug http tru...\n",
              "3       morn appear bit sore head perhap bag pork scra...\n",
              "4                book appoint give blood pm nd june scare\n",
              "                              ...                        \n",
              "1994          think hire one tranlsat one ever understand\n",
              "1995                     http twitpic com w see mile away\n",
              "1996                              desper go venic beinnal\n",
              "1997                                  sleep work tomorrow\n",
              "1998               ouch epic bruis toe lump ankl bad time\n",
              "Name: text, Length: 40000, dtype: object"
            ]
          },
          "metadata": {},
          "execution_count": 22
        }
      ],
      "source": [
        "data['text']"
      ]
    },
    {
      "cell_type": "code",
      "execution_count": 23,
      "id": "596e2847",
      "metadata": {
        "id": "596e2847"
      },
      "outputs": [],
      "source": [
        "# Creating the Bag of Words model by applying Countvectorizer -convert textual data to numerical data\n",
        "\n",
        "\n",
        "from sklearn.feature_extraction.text import CountVectorizer\n",
        "\n",
        "cv = CountVectorizer(max_features=5000,ngram_range=(1,3))#example: the course was long-> [the,the course,the course was,course, course was, course was long,...]\n",
        "\n",
        "data_cv = cv.fit_transform(data['text']).toarray()\n",
        "\n",
        "\n"
      ]
    },
    {
      "cell_type": "code",
      "execution_count": 24,
      "id": "273c3e4b",
      "metadata": {
        "id": "273c3e4b",
        "outputId": "dd6f4d5d-789c-4cf8-88f5-9f24c3d47376",
        "colab": {
          "base_uri": "https://localhost:8080/"
        }
      },
      "outputs": [
        {
          "output_type": "execute_result",
          "data": {
            "text/plain": [
              "array([[0, 0, 0, ..., 0, 0, 0],\n",
              "       [0, 0, 0, ..., 0, 0, 0],\n",
              "       [0, 0, 0, ..., 0, 0, 0],\n",
              "       ...,\n",
              "       [0, 0, 0, ..., 0, 0, 0],\n",
              "       [0, 0, 0, ..., 0, 0, 0],\n",
              "       [0, 0, 0, ..., 0, 0, 0]])"
            ]
          },
          "metadata": {},
          "execution_count": 24
        }
      ],
      "source": [
        "data_cv"
      ]
    },
    {
      "cell_type": "code",
      "execution_count": 25,
      "id": "29d54b1e",
      "metadata": {
        "id": "29d54b1e"
      },
      "outputs": [],
      "source": [
        "from sklearn.model_selection import train_test_split\n",
        "#X_train, X_test, y_train, y_test=data_cv,test_cv,train['N_label'],test['N_label']\n",
        "X_train, X_test, y_train, y_test =train_test_split(data_cv, data['N_label'], test_size=0.25, random_state=42)\n"
      ]
    },
    {
      "cell_type": "code",
      "execution_count": 27,
      "id": "33985ff0",
      "metadata": {
        "id": "33985ff0",
        "outputId": "8a3b6877-679c-4791-d052-8a47b4921b98",
        "colab": {
          "base_uri": "https://localhost:8080/"
        }
      },
      "outputs": [
        {
          "output_type": "stream",
          "name": "stdout",
          "text": [
            "Epoch 1/10\n",
            "50/50 [==============================] - 2s 35ms/step - loss: 1.0752 - accuracy: 0.4296\n",
            "Epoch 2/10\n",
            "50/50 [==============================] - 2s 33ms/step - loss: 0.9855 - accuracy: 0.5460\n",
            "Epoch 3/10\n",
            "50/50 [==============================] - 1s 30ms/step - loss: 0.9074 - accuracy: 0.5798\n",
            "Epoch 4/10\n",
            "50/50 [==============================] - 2s 32ms/step - loss: 0.8658 - accuracy: 0.5979\n",
            "Epoch 5/10\n",
            "50/50 [==============================] - 2s 42ms/step - loss: 0.8360 - accuracy: 0.6226\n",
            "Epoch 6/10\n",
            "50/50 [==============================] - 2s 38ms/step - loss: 0.8079 - accuracy: 0.6465\n",
            "Epoch 7/10\n",
            "50/50 [==============================] - 2s 33ms/step - loss: 0.7805 - accuracy: 0.6655\n",
            "Epoch 8/10\n",
            "50/50 [==============================] - 2s 38ms/step - loss: 0.7553 - accuracy: 0.6830\n",
            "Epoch 9/10\n",
            "50/50 [==============================] - 2s 47ms/step - loss: 0.7326 - accuracy: 0.6947\n",
            "Epoch 10/10\n",
            "50/50 [==============================] - 2s 45ms/step - loss: 0.7121 - accuracy: 0.7056\n",
            "938/938 [==============================] - 3s 3ms/step - loss: 0.6786 - accuracy: 0.7271\n",
            "Accuracy: 72.71\n",
            "938/938 [==============================] - 2s 2ms/step\n",
            "F1 Score on Training Set: 0.7271\n"
          ]
        }
      ],
      "source": [
        "# first neural network with keras tutorial\n",
        "from tensorflow.keras.models import Sequential\n",
        "from tensorflow.keras.layers import Dense\n",
        "from sklearn.metrics import f1_score\n",
        "import numpy as np\n",
        "# load the dataset\n",
        "# split into input (X) and output (y) variables\n",
        "# define the keras model\n",
        "model = Sequential()\n",
        "model.add(Dense(12, input_shape=(X_train.shape[1],), activation='relu'))\n",
        "model.add(Dense(8, activation='relu'))\n",
        "model.add(Dense(3, activation='softmax'))\n",
        "# compile the keras model\n",
        "model.compile(loss='sparse_categorical_crossentropy', optimizer='adam', metrics=['accuracy'])\n",
        "# fit the keras model on the dataset\n",
        "model.fit(X_train, y_train, epochs=10, batch_size=600)\n",
        "# evaluate the keras model\n",
        "_, accuracy = model.evaluate(X_train, y_train)\n",
        "print('Accuracy: %.2f' % (accuracy*100))\n",
        "\n",
        "y_pred_train = np.argmax(model.predict(X_train), axis=1)\n",
        "f1_train = f1_score(y_train, y_pred_train, average='micro')\n",
        "print('F1 Score on Training Set: %.4f' % f1_train)"
      ]
    },
    {
      "cell_type": "code",
      "execution_count": 28,
      "id": "b6867f1a",
      "metadata": {
        "id": "b6867f1a",
        "outputId": "05e875c1-daa9-4e2c-fd99-e03649646971",
        "colab": {
          "base_uri": "https://localhost:8080/"
        }
      },
      "outputs": [
        {
          "output_type": "stream",
          "name": "stdout",
          "text": [
            "313/313 [==============================] - 1s 3ms/step - loss: 0.9971 - accuracy: 0.5552\n",
            "Accuracy: 55.52\n"
          ]
        }
      ],
      "source": [
        "_, accuracy = model.evaluate(X_test, y_test)\n",
        "print('Accuracy: %.2f' % (accuracy*100))"
      ]
    },
    {
      "cell_type": "code",
      "execution_count": 29,
      "id": "fee946e4",
      "metadata": {
        "id": "fee946e4",
        "outputId": "b089dc13-4815-45dd-9827-1c63b5480258",
        "colab": {
          "base_uri": "https://localhost:8080/",
          "height": 52
        }
      },
      "outputs": [
        {
          "output_type": "stream",
          "name": "stdout",
          "text": [
            "1/1 [==============================] - 0s 22ms/step\n"
          ]
        },
        {
          "output_type": "execute_result",
          "data": {
            "text/plain": [
              "'positive'"
            ],
            "application/vnd.google.colaboratory.intrinsic+json": {
              "type": "string"
            }
          },
          "metadata": {},
          "execution_count": 29
        }
      ],
      "source": [
        "import numpy as np\n",
        "text='You are a good boy'\n",
        "text=preprocess(text)\n",
        "array = cv.transform([text]).toarray()\n",
        "pred = model.predict(array)\n",
        "a=np.argmax(pred, axis=1)\n",
        "label_encoder.inverse_transform(a)[0]"
      ]
    },
    {
      "cell_type": "code",
      "execution_count": null,
      "id": "5877746b",
      "metadata": {
        "id": "5877746b"
      },
      "outputs": [],
      "source": [
        "tf.keras.models.save_model(model,'my_model.h5')\n"
      ]
    },
    {
      "cell_type": "code",
      "execution_count": 31,
      "id": "ea79609f",
      "metadata": {
        "id": "ea79609f"
      },
      "outputs": [],
      "source": [
        "import pickle\n",
        "pickle.dump(label_encoder, open('encoder.pkl', 'wb'))\n",
        "pickle.dump(cv, open('CountVectorizer.pkl', 'wb'))\n"
      ]
    },
    {
      "cell_type": "code",
      "source": [
        "from sklearn.metrics import accuracy_score, precision_score, recall_score, f1_score\n",
        "\n",
        "# Assuming X_test and y_test are your test dataset\n",
        "# Evaluate the model on the test set\n",
        "_, test_accuracy = model.evaluate(X_test, y_test)\n",
        "print('Test Accuracy: %.2f' % (test_accuracy * 100))\n",
        "\n",
        "# Make predictions on the test set\n",
        "y_pred_test = np.argmax(model.predict(X_test), axis=1)\n",
        "\n",
        "# Calculate accuracy, precision, recall, and F1 score\n",
        "test_accuracy = accuracy_score(y_test, y_pred_test)\n",
        "test_precision = precision_score(y_test, y_pred_test, average='micro')\n",
        "test_recall = recall_score(y_test, y_pred_test, average='micro')\n",
        "test_f1 = f1_score(y_test, y_pred_test, average='micro')\n",
        "\n",
        "print('Test Accuracy: %.2f' % (test_accuracy * 100))\n",
        "print('Test Precision: %.2f' % (test_precision* 100))\n",
        "print('Test Recall: %.2f' % (test_recall* 100))\n",
        "print('Test F1 Score: %.4f' % (test_f1* 100))\n"
      ],
      "metadata": {
        "colab": {
          "base_uri": "https://localhost:8080/"
        },
        "id": "v4Eh6hs-iKkX",
        "outputId": "4b9ceb24-72f9-429a-8d90-e4c8297e8e64"
      },
      "id": "v4Eh6hs-iKkX",
      "execution_count": 32,
      "outputs": [
        {
          "output_type": "stream",
          "name": "stdout",
          "text": [
            "313/313 [==============================] - 1s 3ms/step - loss: 0.9971 - accuracy: 0.5552\n",
            "Test Accuracy: 55.52\n",
            "313/313 [==============================] - 1s 2ms/step\n",
            "Test Accuracy: 55.52\n",
            "Test Precision: 55.52\n",
            "Test Recall: 55.52\n",
            "Test F1 Score: 55.5200\n"
          ]
        }
      ]
    }
  ],
  "metadata": {
    "kernelspec": {
      "display_name": "Python 3 (ipykernel)",
      "language": "python",
      "name": "python3"
    },
    "language_info": {
      "codemirror_mode": {
        "name": "ipython",
        "version": 3
      },
      "file_extension": ".py",
      "mimetype": "text/x-python",
      "name": "python",
      "nbconvert_exporter": "python",
      "pygments_lexer": "ipython3",
      "version": "3.7.11"
    },
    "colab": {
      "provenance": []
    }
  },
  "nbformat": 4,
  "nbformat_minor": 5
}