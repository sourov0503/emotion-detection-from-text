{
  "cells": [
    {
      "cell_type": "code",
      "execution_count": null,
      "id": "20bf74a3",
      "metadata": {
        "id": "20bf74a3"
      },
      "outputs": [],
      "source": [
        "#make sure you have these versions of TensorFlow and Keras"
      ]
    },
    {
      "cell_type": "code",
      "source": [
        "from sklearn.model_selection import train_test_split, cross_val_score\n",
        "from sklearn.linear_model import LogisticRegression\n",
        "from sklearn.ensemble import RandomForestClassifier\n",
        "from sklearn.svm import SVC\n",
        "from sklearn.ensemble import StackingClassifier\n",
        "from sklearn.metrics import accuracy_score, precision_score, recall_score, f1_score\n",
        "from transformers import RobertaTokenizer, RobertaForSequenceClassification, AdamW\n",
        "from torch.utils.data import DataLoader, TensorDataset\n",
        "import torch\n",
        "from sklearn.metrics import accuracy_score\n",
        "import pandas as pd"
      ],
      "metadata": {
        "id": "bgXDytHTURDm"
      },
      "id": "bgXDytHTURDm",
      "execution_count": null,
      "outputs": []
    },
    {
      "cell_type": "code",
      "execution_count": null,
      "id": "0a5123fe",
      "metadata": {
        "colab": {
          "base_uri": "https://localhost:8080/"
        },
        "id": "0a5123fe",
        "outputId": "dbea170a-07be-4dbd-d188-c162475b2f00"
      },
      "outputs": [
        {
          "output_type": "stream",
          "name": "stdout",
          "text": [
            "2.15.0\n"
          ]
        }
      ],
      "source": [
        "import tensorflow as tf\n",
        "print(tf.__version__)"
      ]
    },
    {
      "cell_type": "code",
      "execution_count": null,
      "id": "1b477834",
      "metadata": {
        "colab": {
          "base_uri": "https://localhost:8080/",
          "height": 35
        },
        "id": "1b477834",
        "outputId": "3585f063-0b74-4ad2-ce2a-fb8b0960a684"
      },
      "outputs": [
        {
          "output_type": "execute_result",
          "data": {
            "text/plain": [
              "'2.15.0'"
            ],
            "application/vnd.google.colaboratory.intrinsic+json": {
              "type": "string"
            }
          },
          "metadata": {},
          "execution_count": 4
        }
      ],
      "source": [
        "import keras\n",
        "keras.__version__"
      ]
    },
    {
      "cell_type": "code",
      "source": [
        "from google.colab import drive\n",
        "drive.mount('/content/drive')"
      ],
      "metadata": {
        "colab": {
          "base_uri": "https://localhost:8080/"
        },
        "id": "IlixaPazLA-0",
        "outputId": "280a884e-ee06-4533-dcf0-1c2dc97f4a37"
      },
      "id": "IlixaPazLA-0",
      "execution_count": null,
      "outputs": [
        {
          "output_type": "stream",
          "name": "stdout",
          "text": [
            "Drive already mounted at /content/drive; to attempt to forcibly remount, call drive.mount(\"/content/drive\", force_remount=True).\n"
          ]
        }
      ]
    },
    {
      "cell_type": "code",
      "execution_count": null,
      "id": "e2e0b6e3",
      "metadata": {
        "id": "e2e0b6e3"
      },
      "outputs": [],
      "source": [
        "import pandas as pd\n",
        "from nltk.corpus import stopwords\n",
        "from nltk.stem.porter import PorterStemmer\n",
        "import re\n",
        "train=pd.read_csv('/content/drive/Shareddrives/ presentation/train.csv')\n",
        "val=pd.read_csv('/content/drive/Shareddrives/ presentation/val.csv')\n",
        "test=pd.read_csv('/content/drive/Shareddrives/ presentation/test.csv')\n",
        "\n",
        "\n",
        "\n"
      ]
    },
    {
      "cell_type": "code",
      "source": [
        "val.info()"
      ],
      "metadata": {
        "colab": {
          "base_uri": "https://localhost:8080/"
        },
        "id": "AgbMuHJmOJLv",
        "outputId": "1a68d8f3-6f89-4eb5-f516-d3c3b4a9bb7a"
      },
      "id": "AgbMuHJmOJLv",
      "execution_count": null,
      "outputs": [
        {
          "output_type": "stream",
          "name": "stdout",
          "text": [
            "<class 'pandas.core.frame.DataFrame'>\n",
            "RangeIndex: 999 entries, 0 to 998\n",
            "Data columns (total 2 columns):\n",
            " #   Column     Non-Null Count  Dtype \n",
            "---  ------     --------------  ----- \n",
            " 0   sentiment  999 non-null    object\n",
            " 1   content    999 non-null    object\n",
            "dtypes: object(2)\n",
            "memory usage: 15.7+ KB\n"
          ]
        }
      ]
    },
    {
      "cell_type": "code",
      "source": [
        "data = pd.concat([train ,  val , test])\n",
        "data.columns = [ \"sentiment\",\"content\"]"
      ],
      "metadata": {
        "id": "TOtMSmInOM3C"
      },
      "id": "TOtMSmInOM3C",
      "execution_count": null,
      "outputs": []
    },
    {
      "cell_type": "code",
      "source": [
        "unique_sentiments = data['sentiment'].unique()\n",
        "print(unique_sentiments)"
      ],
      "metadata": {
        "colab": {
          "base_uri": "https://localhost:8080/"
        },
        "id": "pLsUFbhcbm_p",
        "outputId": "e17d7ced-af25-42c0-cb7f-2997593ce31d"
      },
      "id": "pLsUFbhcbm_p",
      "execution_count": null,
      "outputs": [
        {
          "output_type": "stream",
          "name": "stdout",
          "text": [
            "['neutral' 'worry' 'surprise' 'hate' 'empty' 'happiness' 'sadness' 'fun'\n",
            " 'enthusiasm' 'love' 'relief' 'boredom' 'anger']\n"
          ]
        }
      ]
    },
    {
      "cell_type": "code",
      "source": [
        "sentiment_mapping = {\n",
        "    'empty': 'negative',\n",
        "    'sadness': 'negative',\n",
        "    'worry': 'negative',\n",
        "    'hate': 'negative',\n",
        "    'boredom': 'negative',\n",
        "    'anger': 'negative',\n",
        "    'enthusiasm': 'positive',\n",
        "    'neutral': 'neutral',\n",
        "    'surprise': 'neutral',\n",
        "    'love': 'positive',\n",
        "    'fun': 'positive',\n",
        "    'happiness': 'positive',\n",
        "    'relief': 'positive'\n",
        "}\n",
        "\n",
        "# Create a new col for the mapping\n",
        "data['label'] = data['sentiment'].map(sentiment_mapping)"
      ],
      "metadata": {
        "id": "t1W8t5esc0Vs"
      },
      "id": "t1W8t5esc0Vs",
      "execution_count": null,
      "outputs": []
    },
    {
      "cell_type": "code",
      "source": [
        "# Drop the original column, 'sentiment'\n",
        "data = data.drop(columns=['sentiment'])"
      ],
      "metadata": {
        "id": "6DDUEH38c_gj"
      },
      "id": "6DDUEH38c_gj",
      "execution_count": null,
      "outputs": []
    },
    {
      "cell_type": "code",
      "source": [
        "unique_sentiments = data['label'].unique()\n",
        "print(unique_sentiments)"
      ],
      "metadata": {
        "colab": {
          "base_uri": "https://localhost:8080/"
        },
        "id": "tZA11m3ydHNS",
        "outputId": "09176df7-1c4c-4cdb-cba9-47da221dc495"
      },
      "id": "tZA11m3ydHNS",
      "execution_count": null,
      "outputs": [
        {
          "output_type": "stream",
          "name": "stdout",
          "text": [
            "['neutral' 'negative' 'positive']\n"
          ]
        }
      ]
    },
    {
      "cell_type": "code",
      "source": [
        "data.info()"
      ],
      "metadata": {
        "colab": {
          "base_uri": "https://localhost:8080/"
        },
        "id": "K-pUYmQfdM64",
        "outputId": "b695fb41-e209-4b50-ef0b-d5fefc4058b3"
      },
      "id": "K-pUYmQfdM64",
      "execution_count": null,
      "outputs": [
        {
          "output_type": "stream",
          "name": "stdout",
          "text": [
            "<class 'pandas.core.frame.DataFrame'>\n",
            "Int64Index: 40000 entries, 0 to 1998\n",
            "Data columns (total 2 columns):\n",
            " #   Column   Non-Null Count  Dtype \n",
            "---  ------   --------------  ----- \n",
            " 0   content  40000 non-null  object\n",
            " 1   label    40000 non-null  object\n",
            "dtypes: object(2)\n",
            "memory usage: 937.5+ KB\n"
          ]
        }
      ]
    },
    {
      "cell_type": "code",
      "source": [
        "data.rename(columns={'content': 'text'}, inplace=True)\n",
        "#data.rename(columns={'sentiment': 'label'}, inplace=True)"
      ],
      "metadata": {
        "id": "I6fSpAUgO7hh"
      },
      "id": "I6fSpAUgO7hh",
      "execution_count": null,
      "outputs": []
    },
    {
      "cell_type": "code",
      "source": [
        "data.info()"
      ],
      "metadata": {
        "colab": {
          "base_uri": "https://localhost:8080/"
        },
        "id": "dWb4eaD5QhCK",
        "outputId": "6705259b-b3cb-41f3-bfa3-db996ed10807"
      },
      "id": "dWb4eaD5QhCK",
      "execution_count": null,
      "outputs": [
        {
          "output_type": "stream",
          "name": "stdout",
          "text": [
            "<class 'pandas.core.frame.DataFrame'>\n",
            "Int64Index: 40000 entries, 0 to 1998\n",
            "Data columns (total 2 columns):\n",
            " #   Column  Non-Null Count  Dtype \n",
            "---  ------  --------------  ----- \n",
            " 0   text    40000 non-null  object\n",
            " 1   label   40000 non-null  object\n",
            "dtypes: object(2)\n",
            "memory usage: 937.5+ KB\n"
          ]
        }
      ]
    },
    {
      "cell_type": "code",
      "execution_count": null,
      "id": "c44756fd",
      "metadata": {
        "id": "c44756fd",
        "outputId": "0ef2c075-1a2c-4cae-9fb2-fda8da22edb9",
        "colab": {
          "base_uri": "https://localhost:8080/"
        }
      },
      "outputs": [
        {
          "output_type": "execute_result",
          "data": {
            "text/plain": [
              "(40000, 2)"
            ]
          },
          "metadata": {},
          "execution_count": 16
        }
      ],
      "source": [
        "data.shape"
      ]
    },
    {
      "cell_type": "code",
      "execution_count": null,
      "id": "c3042a2f",
      "metadata": {
        "id": "c3042a2f",
        "outputId": "1dc7c810-a55e-43b5-a724-12ef38db8278",
        "colab": {
          "base_uri": "https://localhost:8080/"
        }
      },
      "outputs": [
        {
          "output_type": "execute_result",
          "data": {
            "text/plain": [
              "0"
            ]
          },
          "metadata": {},
          "execution_count": 17
        }
      ],
      "source": [
        "data.isna().any(axis=1).sum()"
      ]
    },
    {
      "cell_type": "code",
      "execution_count": null,
      "id": "6eac3269",
      "metadata": {
        "id": "6eac3269"
      },
      "outputs": [],
      "source": [
        "#text preprocessing\n",
        "ps = PorterStemmer()\n",
        "\n",
        "def preprocess(line):\n",
        "    review = re.sub('[^a-zA-Z]', ' ', line) #leave only characters from a to z\n",
        "    review = review.lower() #lower the text\n",
        "    review = review.split() #turn string into list of words\n",
        "    #apply Stemming\n",
        "    review = [ps.stem(word) for word in review if not word in stopwords.words('english')] #delete stop words like I, and ,OR   review = ' '.join(review)\n",
        "    #trun list into sentences\n",
        "    return \" \".join(review)\n"
      ]
    },
    {
      "cell_type": "code",
      "execution_count": null,
      "id": "d230e70d",
      "metadata": {
        "id": "d230e70d",
        "colab": {
          "base_uri": "https://localhost:8080/"
        },
        "outputId": "ed658cac-495d-49b0-9dbf-49299cee9772"
      },
      "outputs": [
        {
          "output_type": "stream",
          "name": "stderr",
          "text": [
            "[nltk_data] Downloading package stopwords to /root/nltk_data...\n",
            "[nltk_data]   Package stopwords is already up-to-date!\n"
          ]
        },
        {
          "output_type": "execute_result",
          "data": {
            "text/plain": [
              "True"
            ]
          },
          "metadata": {},
          "execution_count": 19
        }
      ],
      "source": [
        "import nltk\n",
        "nltk.download('stopwords')"
      ]
    },
    {
      "cell_type": "code",
      "execution_count": null,
      "id": "c0b585db",
      "metadata": {
        "id": "c0b585db"
      },
      "outputs": [],
      "source": [
        "data['text']=data['text'].apply(lambda x: preprocess(x))\n"
      ]
    },
    {
      "cell_type": "code",
      "source": [
        "data['label']\n",
        "#data['text']"
      ],
      "metadata": {
        "colab": {
          "base_uri": "https://localhost:8080/"
        },
        "id": "RpJ1u4i3Qr51",
        "outputId": "8ed1c9de-a72b-4ce7-b149-3c6726acdc34"
      },
      "id": "RpJ1u4i3Qr51",
      "execution_count": null,
      "outputs": [
        {
          "output_type": "execute_result",
          "data": {
            "text/plain": [
              "0        neutral\n",
              "1        neutral\n",
              "2       negative\n",
              "3       negative\n",
              "4        neutral\n",
              "          ...   \n",
              "1994    negative\n",
              "1995    negative\n",
              "1996     neutral\n",
              "1997     neutral\n",
              "1998    negative\n",
              "Name: label, Length: 40000, dtype: object"
            ]
          },
          "metadata": {},
          "execution_count": 21
        }
      ]
    },
    {
      "cell_type": "code",
      "execution_count": null,
      "id": "f32480b2",
      "metadata": {
        "id": "f32480b2"
      },
      "outputs": [],
      "source": [
        "from sklearn import preprocessing\n",
        "\n",
        "label_encoder = preprocessing.LabelEncoder()\n",
        "data['N_label'] = label_encoder.fit_transform(data['label'])\n"
      ]
    },
    {
      "cell_type": "code",
      "execution_count": null,
      "id": "8c8fea19",
      "metadata": {
        "id": "8c8fea19",
        "outputId": "0b672386-c51d-4f50-bb1d-a3b69ba7d2a9",
        "colab": {
          "base_uri": "https://localhost:8080/"
        }
      },
      "outputs": [
        {
          "output_type": "execute_result",
          "data": {
            "text/plain": [
              "0       came hous morn stink cat poo cat busi littl bi...\n",
              "1       bah bk recept comp aint work sun got hat hip h...\n",
              "2       bbc malaria parasit becom resist drug http tru...\n",
              "3       morn appear bit sore head perhap bag pork scra...\n",
              "4                book appoint give blood pm nd june scare\n",
              "                              ...                        \n",
              "1994          think hire one tranlsat one ever understand\n",
              "1995                     http twitpic com w see mile away\n",
              "1996                              desper go venic beinnal\n",
              "1997                                  sleep work tomorrow\n",
              "1998               ouch epic bruis toe lump ankl bad time\n",
              "Name: text, Length: 40000, dtype: object"
            ]
          },
          "metadata": {},
          "execution_count": 23
        }
      ],
      "source": [
        "data['text']"
      ]
    },
    {
      "cell_type": "code",
      "execution_count": null,
      "id": "596e2847",
      "metadata": {
        "id": "596e2847"
      },
      "outputs": [],
      "source": [
        "# Creating the Bag of Words model by applying Countvectorizer -convert textual data to numerical data\n",
        "\n",
        "\n",
        "from sklearn.feature_extraction.text import CountVectorizer\n",
        "\n",
        "cv = CountVectorizer(max_features=5000,ngram_range=(1,3))#example: the course was long-> [the,the course,the course was,course, course was, course was long,...]\n",
        "\n",
        "data_cv = cv.fit_transform(data['text']).toarray()\n",
        "\n",
        "\n"
      ]
    },
    {
      "cell_type": "code",
      "execution_count": null,
      "id": "273c3e4b",
      "metadata": {
        "id": "273c3e4b",
        "outputId": "38f13a1d-7d47-42fd-8218-409586b9bf5b",
        "colab": {
          "base_uri": "https://localhost:8080/"
        }
      },
      "outputs": [
        {
          "output_type": "execute_result",
          "data": {
            "text/plain": [
              "array([[0, 0, 0, ..., 0, 0, 0],\n",
              "       [0, 0, 0, ..., 0, 0, 0],\n",
              "       [0, 0, 0, ..., 0, 0, 0],\n",
              "       ...,\n",
              "       [0, 0, 0, ..., 0, 0, 0],\n",
              "       [0, 0, 0, ..., 0, 0, 0],\n",
              "       [0, 0, 0, ..., 0, 0, 0]])"
            ]
          },
          "metadata": {},
          "execution_count": 25
        }
      ],
      "source": [
        "data_cv"
      ]
    },
    {
      "cell_type": "code",
      "execution_count": null,
      "id": "29d54b1e",
      "metadata": {
        "id": "29d54b1e"
      },
      "outputs": [],
      "source": [
        "from sklearn.model_selection import train_test_split\n",
        "#X_train, X_test, y_train, y_test=data_cv,test_cv,train['N_label'],test['N_label']\n",
        "X_train, X_test, y_train, y_test =train_test_split(data_cv, data['N_label'], test_size=0.25, random_state=42)\n"
      ]
    },
    {
      "cell_type": "code",
      "source": [
        "# Create classifiers\n",
        "logreg = LogisticRegression(max_iter=1200)\n",
        "\n",
        "random_forest = RandomForestClassifier()\n",
        "linear_svc = SVC(kernel='linear')\n",
        "# Create a StackingClassifier\n",
        "estimators = [('rf', random_forest), ('svc', linear_svc)]\n",
        "stacking_classifier = StackingClassifier(estimators=estimators, final_estimator=logreg)\n",
        "# Train and evaluate each classifier using cross-validation\n",
        "classifiers = [logreg, random_forest, linear_svc, stacking_classifier]\n",
        "for classifier in classifiers:\n",
        "    # Cross-validation scores\n",
        "    cv_scores = cross_val_score(classifier, X_train, y_train, cv=5)\n",
        "    avg_cv_score = sum(cv_scores) / len(cv_scores)\n",
        "    # Train the classifier\n",
        "    classifier.fit(X_train, y_train)\n",
        "    # Predict on the test set\n",
        "    y_pred = classifier.predict(X_test)\n",
        "    # Calculate evaluation metrics\n",
        "    accuracy = accuracy_score(y_test, y_pred)\n",
        "    precision = precision_score(y_test, y_pred, average='weighted')\n",
        "    recall = recall_score(y_test, y_pred, average='weighted')\n",
        "    f1 = f1_score(y_test, y_pred, average='weighted')\n",
        "    print(f\"Classifier: {classifier.__class__.__name__}\")\n",
        "    print(f\"Cross-Validation Average Score: {avg_cv_score:.3f}\")\n",
        "    print(f\"Accuracy: {accuracy:.3f}, Precision: {precision:.3f}, Recall: {recall:.3f}, F1-Score: {f1:.3f}\")\n",
        "    print(\"-\" * 50)"
      ],
      "metadata": {
        "colab": {
          "base_uri": "https://localhost:8080/"
        },
        "id": "c3WhxbLGUGIz",
        "outputId": "2f72a644-c330-46c6-8547-d718a5d60296"
      },
      "id": "c3WhxbLGUGIz",
      "execution_count": null,
      "outputs": [
        {
          "output_type": "stream",
          "name": "stdout",
          "text": [
            "Classifier: LogisticRegression\n",
            "Cross-Validation Average Score: 0.551\n",
            "Accuracy: 0.552, Precision: 0.548, Recall: 0.552, F1-Score: 0.550\n",
            "--------------------------------------------------\n",
            "Classifier: RandomForestClassifier\n",
            "Cross-Validation Average Score: 0.545\n",
            "Accuracy: 0.544, Precision: 0.540, Recall: 0.544, F1-Score: 0.542\n",
            "--------------------------------------------------\n"
          ]
        }
      ]
    }
  ],
  "metadata": {
    "kernelspec": {
      "display_name": "Python 3 (ipykernel)",
      "language": "python",
      "name": "python3"
    },
    "language_info": {
      "codemirror_mode": {
        "name": "ipython",
        "version": 3
      },
      "file_extension": ".py",
      "mimetype": "text/x-python",
      "name": "python",
      "nbconvert_exporter": "python",
      "pygments_lexer": "ipython3",
      "version": "3.7.11"
    },
    "colab": {
      "provenance": []
    }
  },
  "nbformat": 4,
  "nbformat_minor": 5
}